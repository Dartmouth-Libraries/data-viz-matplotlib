{
 "cells": [
  {
   "cell_type": "markdown",
   "metadata": {},
   "source": [
    "# Overview of common plot types\n",
    "\n",
    "`matplotlib` offers [a variety of plots](https://matplotlib.org/stable/plot_types/index.html) to choose from. Which plot is the right one in a given scenario depends on the nature and structure of your data.\n",
    "\n",
    "The plot types are organized into three major groups:\n",
    "\n",
    "1. Pairwise data: _There is a y for every x._\n",
    "2. Statistical distributions: You want to visualize the _structure_ of your data.\n",
    "3. Gridded data: You want to visualize your data on a (regular or irregular) grid.\n",
    "\n",
    "In this session, we will take a closer look at the first two groups.\n",
    "\n",
    "You can find more information on all the available plot types [in the documentation](https://matplotlib.org/stable/plot_types/index.html). There are also [many examples available](https://matplotlib.org/stable/gallery/index.html) for you to learn from, download, and modify.\n",
    "\n",
    "The plotting functions share a lot of options that let you change the size and color of lines and markers and similar commonly used customizations. [The previous notebook](./01-basics.ipynb) already covered many of these. In this notebook, we will instead focus on some of the properties that are specific to the individual plot functions.\n"
   ]
  },
  {
   "cell_type": "code",
   "execution_count": null,
   "metadata": {},
   "outputs": [],
   "source": [
    "import matplotlib.pyplot as plt"
   ]
  },
  {
   "cell_type": "markdown",
   "metadata": {},
   "source": [
    "## Pairwise data\n",
    "\n",
    "Pairwise data means you want to visualize two variables with the same number of values against each other, i.e., one variable should be on the x axis and the other variable should be at the y axis.\n",
    "\n",
    "In [the previous notebook](./01-basics.ipynb), all examples were based on pairwise data.\n",
    "\n",
    "Some commonly used visualizations for pairwise data are the line, scatter, and bar plot. Let's repeat what we have already seen in the previous notebook:\n"
   ]
  },
  {
   "cell_type": "markdown",
   "metadata": {},
   "source": [
    "### Line plot\n",
    "\n",
    "The most basic version of a line plot draws a line through the specified pairs of x and y values:\n"
   ]
  },
  {
   "cell_type": "code",
   "execution_count": null,
   "metadata": {},
   "outputs": [],
   "source": [
    "x = [1, 2, 6, 7]\n",
    "y = [2, 0, 3, 4]\n",
    "\n",
    "fig, ax = plt.subplots()\n",
    "ax.plot(x, y)"
   ]
  },
  {
   "cell_type": "markdown",
   "metadata": {},
   "source": [
    "If we want to plot multiple lines, we can use the plot command multiple times:\n"
   ]
  },
  {
   "cell_type": "code",
   "execution_count": null,
   "metadata": {},
   "outputs": [],
   "source": [
    "x1 = [1, 2, 6, 7]\n",
    "y1 = [2, 0, 3, 4]\n",
    "\n",
    "x2 = [2, 3, 4, 5]\n",
    "y2 = [1, 2, 3, 4]\n",
    "\n",
    "fig, ax = plt.subplots()\n",
    "ax.plot(x1, y1)\n",
    "ax.plot(x2, y2)"
   ]
  },
  {
   "cell_type": "markdown",
   "metadata": {},
   "source": [
    "Alternatively, we can organize our data structure in a way that makes it clear to `matplotlib`, how to pair up the values.\n",
    "\n",
    "`matplotlib` goes through the data just like a `for` loop would: The first iteration would be used as the first set of values for each line, the next iteration would be the next set of values, and so on.\n",
    "\n",
    "To keep multiple variables in a single data structure, we could therefore use a list of lists, where each inner list has one vale per line to be plotted:\n"
   ]
  },
  {
   "cell_type": "code",
   "execution_count": null,
   "metadata": {},
   "outputs": [],
   "source": [
    "x = [\n",
    "    [1, 2],\n",
    "    [2, 3],\n",
    "    [6, 4],\n",
    "    [7, 5],\n",
    "]\n",
    "\n",
    "y = [\n",
    "    [2, 1],\n",
    "    [0, 2],\n",
    "    [3, 3],\n",
    "    [4, 4],\n",
    "]\n",
    "\n",
    "fig, ax = plt.subplots()\n",
    "ax.plot(x, y)"
   ]
  },
  {
   "cell_type": "markdown",
   "metadata": {},
   "source": [
    "<div class=\"alert alert-block alert-info\">\n",
    "\n",
    "This may seem very cumbersome when using Python's built-in `list` type. However, `matplotlib` is usually used in conjunction with `numpy`, which offers an `array` type that offers much more elegant ways to organize your data this way.\n",
    "\n",
    "If you are interested in a `numpy` workshop, <a href=\"mailto:researchdatahelp@groups.dartmouth.edu\">let us know!</a>\n",
    "\n",
    "</div>\n"
   ]
  },
  {
   "cell_type": "markdown",
   "metadata": {},
   "source": [
    "### Scatter plot\n",
    "\n",
    "A scatter plot can be helpful if your data is not sorted ascendingly along the x axis and/or if there is no meaningful interpretation of interpolating between the existing data points.\n",
    "\n",
    "A simple scatter plot could look like this:\n"
   ]
  },
  {
   "cell_type": "code",
   "execution_count": null,
   "metadata": {},
   "outputs": [],
   "source": [
    "fig, ax = plt.subplots()\n",
    "\n",
    "x = [1, 2, 6, 7]\n",
    "y = [2, 0, 3, 4]\n",
    "\n",
    "ax.scatter(x, y)"
   ]
  },
  {
   "cell_type": "markdown",
   "metadata": {},
   "source": [
    "**Note:** The `scatter()` function does not automatically cycle through different colors when adding multiple sets of points:\n"
   ]
  },
  {
   "cell_type": "code",
   "execution_count": null,
   "metadata": {},
   "outputs": [],
   "source": [
    "fig, ax = plt.subplots()\n",
    "\n",
    "x = [\n",
    "    [1, 2],\n",
    "    [2, 3],\n",
    "    [6, 4],\n",
    "    [7, 5],\n",
    "]\n",
    "\n",
    "y = [\n",
    "    [2, 1],\n",
    "    [0, 2],\n",
    "    [3, 3],\n",
    "    [4, 4],\n",
    "]\n",
    "\n",
    "ax.scatter(x, y)"
   ]
  },
  {
   "cell_type": "markdown",
   "metadata": {},
   "source": [
    "### Bar plot\n",
    "\n",
    "A bar plot is often used when we want to plot some kind of quantity across a categorical variable. For example, the average number of hours of sleep across days of the week:\n"
   ]
  },
  {
   "cell_type": "code",
   "execution_count": null,
   "metadata": {},
   "outputs": [],
   "source": [
    "day = [\"Mon\", \"Tue\", \"Wed\", \"Thu\", \"Fri\", \"Sat\", \"Sun\"]\n",
    "sleeping_hours = [7, 6, 7, 7, 8, 9, 8]\n",
    "\n",
    "fig, ax = plt.subplots()\n",
    "\n",
    "ax.bar(day, sleeping_hours)"
   ]
  },
  {
   "cell_type": "markdown",
   "metadata": {},
   "source": [
    "We can also stack multiple bar charts on top of each other:\n"
   ]
  },
  {
   "cell_type": "code",
   "execution_count": null,
   "metadata": {},
   "outputs": [],
   "source": [
    "day = [\"Mon\", \"Tue\", \"Wed\", \"Thu\", \"Fri\", \"Sat\", \"Sun\"]\n",
    "sleeping_hours = [7, 6, 7, 7, 8, 9, 8]\n",
    "working_hours = [8, 9, 10, 8, 8, 0, 0]\n",
    "fig, ax = plt.subplots()\n",
    "\n",
    "ax.bar(day, sleeping_hours)\n",
    "ax.bar(day, working_hours, bottom=sleeping_hours)"
   ]
  },
  {
   "cell_type": "markdown",
   "metadata": {},
   "source": [
    "If you would like to change the width of the bars or the alignment to the x coordinates, check out [the documentation for `bar()`](https://matplotlib.org/stable/api/_as_gen/matplotlib.pyplot.bar.html).\n"
   ]
  },
  {
   "cell_type": "markdown",
   "metadata": {},
   "source": [
    "## Statistical distributions\n",
    "\n",
    "Whenever you want to visualize the distribution of a continuous variable for one or more categorical variables, you can use the plots for statistical distributions in `matplotlib`.\n",
    "\n",
    "Before we demonstrate two of them, let us first generate some data!\n",
    "\n",
    "Let's stick with the example of visualizing the number of hours slept, but now we increase the sample to an entire year and are interested in breaking this down by day of the week.\n"
   ]
  },
  {
   "cell_type": "code",
   "execution_count": null,
   "metadata": {},
   "outputs": [],
   "source": [
    "import random\n",
    "\n",
    "# Generate sleeping hours for each day of a year\n",
    "sleeping_hours = [\n",
    "    [random.normalvariate(mu=8, sigma=1) for _ in range(53)],\n",
    "    [random.normalvariate(mu=8, sigma=1) for _ in range(52)],\n",
    "    [random.normalvariate(mu=8, sigma=1) for _ in range(52)],\n",
    "    [random.normalvariate(mu=8, sigma=1) for _ in range(52)],\n",
    "    [random.normalvariate(mu=8, sigma=2) for _ in range(52)],\n",
    "    [random.normalvariate(mu=8, sigma=2) for _ in range(52)],\n",
    "    [random.normalvariate(mu=8, sigma=1) for _ in range(52)],\n",
    "]\n",
    "\n",
    "# Generate a variable to hold the day of the week\n",
    "weekday = [\"Mon\", \"Tue\", \"Wed\", \"Thu\", \"Fri\", \"Sat\", \"Sun\"]"
   ]
  },
  {
   "cell_type": "markdown",
   "metadata": {},
   "source": [
    "### Histogram\n",
    "\n",
    "A histogram is a great tool to show the distribution of a random variable. It looks similar to a bar chart, but involves additional calculations:\n",
    "\n",
    "For a bar chart, our data structure contains the height of each bar directly.\n",
    "\n",
    "For a histogram, our data need to be binned into ranges and then counted. We could do these calculations by hand and then use a bar chart to visualize the results, or we conveniently use the function `hist()`:\n"
   ]
  },
  {
   "cell_type": "code",
   "execution_count": null,
   "metadata": {},
   "outputs": [],
   "source": [
    "fig, ax = plt.subplots()\n",
    "\n",
    "# Histogram for the distribution of sleeping hours on Mondays\n",
    "ax.hist(sleeping_hours[0])"
   ]
  },
  {
   "cell_type": "markdown",
   "metadata": {},
   "source": [
    "Histograms work well to visualize the distribution of a single random variable. If you want to visualize the distributions of multiple variables, however, they can quickly get convoluted.\n",
    "\n",
    "Visualizing the distribution of the sleeping hours on each day, for example, would look like this:\n"
   ]
  },
  {
   "cell_type": "code",
   "execution_count": null,
   "metadata": {},
   "outputs": [],
   "source": [
    "fig, ax = plt.subplots()\n",
    "\n",
    "ax.hist(sleeping_hours)\n",
    "ax.legend(weekday)"
   ]
  },
  {
   "cell_type": "markdown",
   "metadata": {},
   "source": [
    "It is very difficult to make meaningful comparisons between the weekdays here.\n",
    "\n",
    "To visualize the distributions in multiple groups, a boxplot is usually the better choice.\n"
   ]
  },
  {
   "cell_type": "markdown",
   "metadata": {},
   "source": [
    "### Box plot\n",
    "\n",
    "Box plots are a compact representation of several key statistics of a random variable.\n",
    "\n",
    "From [the `matplotlib` documentation](https://matplotlib.org/stable/api/_as_gen/matplotlib.pyplot.boxplot.html#matplotlib.pyplot.boxplot):\n",
    "\n",
    "> The box extends from the first quartile (Q1) to the third quartile (Q3) of the data, with a line at the median. The whiskers extend from the box to the farthest data point lying within 1.5x the inter-quartile range (IQR) from the box. Flier points are those past the end of the whiskers. See https://en.wikipedia.org/wiki/Box_plot for reference.\n",
    ">\n",
    "> ```\n",
    ">     Q1-1.5IQR   Q1   median  Q3   Q3+1.5IQR\n",
    ">                   |-----:-----|\n",
    ">   o      |--------|     :     |--------|    o  o\n",
    ">                   |-----:-----|\n",
    "> flier             <----------->            fliers\n",
    ">                        IQR\n",
    "> ```\n",
    "\n",
    "We can use the `boxplot()` function to neatly compare the distributions across the levels of the categorical variable:\n"
   ]
  },
  {
   "cell_type": "code",
   "execution_count": null,
   "metadata": {},
   "outputs": [],
   "source": [
    "fig, ax = plt.subplots()\n",
    "\n",
    "_ = ax.boxplot(sleeping_hours, labels=weekday)"
   ]
  },
  {
   "cell_type": "markdown",
   "metadata": {},
   "source": [
    "There are number of customization options in [the documentation](https://matplotlib.org/stable/api/_as_gen/matplotlib.pyplot.boxplot.html#matplotlib.pyplot.boxplot), both for how the statistics are calculated and for how the plot is displayed.\n"
   ]
  },
  {
   "cell_type": "markdown",
   "metadata": {},
   "source": [
    "## Practice area\n",
    "\n",
    "The best way to learn how to use `matplotlib` is to start using it. So here is are a couple of variables that you can use to try out different plots. Don't forget to label and style them!\n",
    "\n",
    "The data here is taken from the [Palmer Penguins dataset](https://github.com/allisonhorst/palmerpenguins). Since the focus of this session is not on data structures, we are providing the data in separate variables instead of in a `numpy` array or the more commonly used data frame.\n"
   ]
  },
  {
   "cell_type": "code",
   "execution_count": null,
   "metadata": {},
   "outputs": [],
   "source": [
    "species = [\"Adelie\"] * 10 + [\"Chinstrap\"] * 10 + [\"Gentoo\"] * 10\n",
    "\n",
    "bill_length_mm = [\n",
    "    [39.0, 37.7, 33.5, 35.3, 37.6, 42.9, 41.4, 34.0, 33.1, 36.0],\n",
    "    [50.6, 45.4, 50.5, 50.8, 46.9, 50.8, 51.3, 52.2, 49.2, 51.5],\n",
    "    [47.5, 46.1, 50.0, 50.0, 43.3, 48.5, 49.4, 48.6, 47.5, 44.5],\n",
    "]\n",
    "\n",
    "bill_depth_mm = [\n",
    "    [18.7, 16.0, 19.0, 18.9, 19.1, 17.6, 18.6, 17.1, 16.1, 17.8],\n",
    "    [19.4, 18.7, 18.4, 19.0, 16.6, 18.5, 19.2, 18.8, 18.2, 18.7],\n",
    "    [14.2, 15.1, 15.3, 15.9, 13.4, 15.0, 15.8, 16.0, 14.0, 14.7],\n",
    "]\n",
    "\n",
    "body_mass_g = [\n",
    "    [3650.0, 3075.0, 3600.0, 3800.0, 3750.0, 4700.0, 3700.0, 3400.0, 2900.0, 3450.0],\n",
    "    [3800.0, 3525.0, 3400.0, 4100.0, 2700.0, 4450.0, 3650.0, 3450.0, 4400.0, 3250.0],\n",
    "    [4600.0, 5100.0, 5550.0, 5350.0, 4400.0, 4850.0, 4925.0, 5800.0, 4875.0, 4850.0],\n",
    "]"
   ]
  },
  {
   "cell_type": "code",
   "execution_count": null,
   "metadata": {},
   "outputs": [],
   "source": [
    "# Your code here!"
   ]
  },
  {
   "cell_type": "markdown",
   "metadata": {},
   "source": [
    "## Next steps\n",
    "\n",
    "We have only scratched the surface of what you can do with `matplotlib`. There is much more to explore and there [a number of official tutorials](https://matplotlib.org/stable/tutorials/index.html) that can guide you on your journey.\n",
    "\n",
    "In those tutorials, you will encounter `numpy` a lot. As mentioned above, we have so-far avoided using more elaborate data structures than the built-in `list`. To really get the most out of `matplotlib`, however, you should use `numpy` to organize your data. If you want to learn more about it, you can check out [the official quickstart for `numpy`](https://numpy.org/devdocs/user/quickstart.html)!\n",
    "\n",
    "Finally, if you use tabular data in [`pandas`](https://pandas.pydata.org/), `matplotlib`'s interface might often be a bit clunky to use. Fortunately, there is another library built on top of `matplotlib` called [`seaborn`](https://seaborn.pydata.org/), that we will explore in a separate workshop!\n"
   ]
  },
  {
   "cell_type": "markdown",
   "metadata": {},
   "source": [
    "<table >\n",
    "<tbody>\n",
    "  <tr>\n",
    "    <td style=\"padding:0px;border-width:0px;vertical-align:center\">    \n",
    "    Created by Simon Stone for Dartmouth College Library under <a href=\"https://creativecommons.org/licenses/by/4.0/\">Creative Commons CC BY-NC 4.0 License</a>.<br>For questions, comments, or improvements, email <a href=\"mailto:researchdatahelp@groups.dartmouth.edu\">Research Data Services</a>.\n",
    "    </td>\n",
    "    <td style=\"padding:0 0 0 1em;border-width:0px;vertical-align:center\"><img alt=\"Creative Commons License\" src=\"https://i.creativecommons.org/l/by/4.0/88x31.png\"/></td>\n",
    "  </tr>\n",
    "</tbody>\n",
    "</table>\n"
   ]
  }
 ],
 "metadata": {
  "kernelspec": {
   "display_name": ".venv",
   "language": "python",
   "name": "python3"
  },
  "language_info": {
   "codemirror_mode": {
    "name": "ipython",
    "version": 3
   },
   "file_extension": ".py",
   "mimetype": "text/x-python",
   "name": "python",
   "nbconvert_exporter": "python",
   "pygments_lexer": "ipython3",
   "version": "3.10.8"
  }
 },
 "nbformat": 4,
 "nbformat_minor": 2
}
