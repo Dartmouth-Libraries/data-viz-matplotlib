{
 "cells": [
  {
   "cell_type": "markdown",
   "metadata": {},
   "source": [
    "# Data Visualization in Python: `matplotlib`\n",
    "\n",
    "If you want to create reproducible, concise, and effective charts in Python, there is almost no way around one library: `matplotlib`.\n",
    "\n",
    "`matplotlib` is a Python library for creating static, animated, and interactive visualizations. Its core design philosophy is that you should be able to create simple plots with just one line of code, and complex visualizations with just a few more. Matplotlib is especially popular in the context of scientific visualizations for publications in research papers and supports ways to save your visualizations in various formats, such as PNGs, SVGs, or even PDFs. It is so well-made, versatile, and popular that other data visualization libraries also use it under-the-hood!\n",
    "\n",
    "<div class=\"alert alert-block alert-info\">\n",
    "\n",
    "**Fun Fact:**\n",
    "\n",
    "`matplotlib` was originally developed by John D. Hunter, who was using the commercial software MATLAB for his work in neuroscience and got frustrated by some limitations imposed by plotting capabilities of MATLAB at the same time. He decided to write his own data visualization library for the free and open-source programming language Python, and cheekily put a reference to MATLAB in the name. In fact, `matplotlib`'s interface (how you use its various plotting functions) was heavily inspired by MATLAB. The first version of `matplotlib` was released in 2003.\n",
    "\n",
    "</div>\n",
    "\n",
    "In this notebook, we will go over the basic structure of `matplotlib` and define some of the terms that you will see pop up wherever `matplotlib`'s many plottling functions are discussed. All of the information compiled in here is based on [`matplotlib`'s official documentation](https://matplotlib.org/stable/), which is a great place to continue your journey afterwards!\n"
   ]
  },
  {
   "cell_type": "markdown",
   "metadata": {},
   "source": [
    "## Getting Started\n",
    "\n",
    "Just like with any other Python library, you first need to install `matplotlib`, for example using `pip`:\n",
    "\n",
    "```\n",
    "pip install matplotlib\n",
    "```\n"
   ]
  },
  {
   "cell_type": "markdown",
   "metadata": {},
   "source": [
    "To use any of `matplotlib`'s functions, we first need to import it. The import statement, however, looks a little unusual at first:\n"
   ]
  },
  {
   "cell_type": "code",
   "execution_count": 3,
   "metadata": {},
   "outputs": [],
   "source": [
    "import matplotlib.pyplot as plt"
   ]
  },
  {
   "cell_type": "code",
   "execution_count": null,
   "metadata": {},
   "outputs": [],
   "source": []
  }
 ],
 "metadata": {
  "kernelspec": {
   "display_name": ".venv",
   "language": "python",
   "name": "python3"
  },
  "language_info": {
   "codemirror_mode": {
    "name": "ipython",
    "version": 3
   },
   "file_extension": ".py",
   "mimetype": "text/x-python",
   "name": "python",
   "nbconvert_exporter": "python",
   "pygments_lexer": "ipython3",
   "version": "3.10.8"
  }
 },
 "nbformat": 4,
 "nbformat_minor": 2
}
