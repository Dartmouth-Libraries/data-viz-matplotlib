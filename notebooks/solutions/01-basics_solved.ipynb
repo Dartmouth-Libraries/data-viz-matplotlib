{
 "cells": [
  {
   "cell_type": "markdown",
   "metadata": {},
   "source": [
    "# Data Visualization in Python: `matplotlib`\n",
    "\n",
    "If you want to create reproducible, concise, and effective charts in Python, there is almost no way around one library: `matplotlib`.\n",
    "\n",
    "`matplotlib` is a Python library for creating static, animated, and interactive visualizations. Its core design philosophy is that you should be able to create simple plots with just one line of code, and complex visualizations with just a few more. Matplotlib is especially popular in the context of scientific visualizations for publications in research papers and supports ways to save your visualizations in various formats, such as PNGs, SVGs, or even PDFs. It is so well-made, versatile, and popular that other data visualization libraries also use it under-the-hood!\n",
    "\n",
    "<div class=\"alert alert-block alert-info\">\n",
    "\n",
    "**Fun Fact:**\n",
    "\n",
    "`matplotlib` was originally developed by John D. Hunter, who was using the commercial software MATLAB for his work in neuroscience and got frustrated by some limitations imposed by plotting capabilities of MATLAB at the same time. He decided to write his own data visualization library for the free and open-source programming language Python, and cheekily put a reference to MATLAB in the name. In fact, `matplotlib`'s interface (how you use its various plotting functions) was heavily inspired by MATLAB. The first version of `matplotlib` was released in 2003.\n",
    "\n",
    "</div>\n",
    "\n",
    "In this notebook, we will go over the basic structure of `matplotlib` and define some of the terms that you will see pop up wherever `matplotlib`'s many plottling functions are discussed. All of the information compiled in here is based on [`matplotlib`'s official documentation](https://matplotlib.org/stable/), which is a great place to continue your journey afterwards!\n"
   ]
  },
  {
   "cell_type": "markdown",
   "metadata": {},
   "source": [
    "## Getting Started\n",
    "\n",
    "Just like with any other Python library, you first need to install `matplotlib`, for example using `pip`:\n",
    "\n",
    "```\n",
    "pip install matplotlib\n",
    "```\n"
   ]
  },
  {
   "cell_type": "markdown",
   "metadata": {},
   "source": [
    "To use any of `matplotlib`'s functions, we first need to import it. The import statement, however, looks a little unusual at first:\n"
   ]
  },
  {
   "cell_type": "code",
   "execution_count": null,
   "metadata": {},
   "outputs": [],
   "source": [
    "import matplotlib.pyplot as plt"
   ]
  },
  {
   "cell_type": "markdown",
   "metadata": {},
   "source": [
    "You might notice that we are not importing the top-level package `matplotlib`, but a subpackage called `pyplot`. This is because `matplotlib` offers two ways to use its functionality (called interfaces):\n",
    "\n",
    "- an _explicit_ interface that creates a visualization element by element using an object-oriented paradigm,\n",
    "- an _implicit_ `pyplot` interface that creates most visualizations in a single line of code (and is very similar to MATLAB's way of doing things).\n",
    "\n",
    "You are not restricted to using exclusively one or the other, and often you will even use both to create more complex visualizations. However, every `matplotlib` journey usually starts out using the `pyplot` interface and so it is commonly imported as above.\n",
    "\n",
    "Using `pyplot` (under its import alias `plt`), we can now create a very basic line plot like this:\n"
   ]
  },
  {
   "cell_type": "code",
   "execution_count": null,
   "metadata": {},
   "outputs": [],
   "source": [
    "x = [1, 2, 6, 7]\n",
    "y = [2, 0, 3, 4]\n",
    "\n",
    "plt.plot(x, y)"
   ]
  },
  {
   "cell_type": "markdown",
   "metadata": {},
   "source": [
    "<div class=\"alert alert-block alert-info\">\n",
    "\n",
    "`matplotlib` supports a variety of ways to display the created figures called _backends_. When you use `matplotlib` in a Jupyter notebook, a backend is selected that displays a figure immediately when a cell with the plotting code is run below the executed cell. In a regular python script (a `*.py` file), the figure is not displayed until the `plt.show()` command is executed.\n",
    "\n",
    "You can find more information on backends in [the official docs](https://matplotlib.org/stable/users/explain/figure/index.html).\n",
    "\n",
    "</div>\n"
   ]
  },
  {
   "cell_type": "markdown",
   "metadata": {},
   "source": [
    "### Exercise\n",
    "\n",
    "Try out some different numbers for `x` and `y`!\n",
    "\n",
    "1. What happens when the numbers are not strictly increasing?\n",
    "2. What happens when the number of numbers in `x` and `y` is not the same?\n",
    "3. Create a scatter plot of the same data using the function `plt.scatter()`!\n"
   ]
  },
  {
   "cell_type": "code",
   "execution_count": null,
   "metadata": {},
   "outputs": [],
   "source": [
    "x = [1, 2, 6, 7]\n",
    "y = [2, 0, 3, 4]\n",
    "\n",
    "plt.scatter(x, y)"
   ]
  },
  {
   "cell_type": "markdown",
   "metadata": {},
   "source": [
    "## Anatomy of a figure\n",
    "\n",
    "A good visualization can consist of many different elements: Lines, markers, labels, annotations, a legend, and many more.\n",
    "\n",
    "In `matplotlib`, these elements are called _Artists_. Here is an overview of the available Artists:\n",
    "\n",
    "<figure>\n",
    "<img src=\"../img/anatomy-of-a-figure.webp\" alt=\"an annotated figure showing the available artists\" style=\"width: 50%;\"/>\n",
    "</figure>\n",
    "\n",
    "Let's create a more complex version of our basic example above to showcase how to work with these Artists!\n"
   ]
  },
  {
   "cell_type": "markdown",
   "metadata": {},
   "source": [
    "### Creating a figure and axes\n",
    "\n",
    "We could create a figure with an empty axes separately like so:\n"
   ]
  },
  {
   "cell_type": "code",
   "execution_count": null,
   "metadata": {},
   "outputs": [],
   "source": [
    "# Create an empty figure\n",
    "fig = plt.figure()\n",
    "# Add a single axes\n",
    "fig.add_axes(plt.axes())"
   ]
  },
  {
   "cell_type": "markdown",
   "metadata": {},
   "source": [
    "Since you very rarely would want a figure without an axes, it is usually more convenient to create both in one go using `plt.subplots()`:\n"
   ]
  },
  {
   "cell_type": "code",
   "execution_count": null,
   "metadata": {},
   "outputs": [],
   "source": [
    "fig, ax = plt.subplots()"
   ]
  },
  {
   "cell_type": "markdown",
   "metadata": {},
   "source": [
    "The same function will even let you create a figure with multiple axes at once:\n"
   ]
  },
  {
   "cell_type": "code",
   "execution_count": null,
   "metadata": {},
   "outputs": [],
   "source": [
    "fig, ax = plt.subplots(1, 2)"
   ]
  },
  {
   "cell_type": "markdown",
   "metadata": {},
   "source": [
    "<div class=\"alert alert-block alert-info\">\n",
    "\n",
    "When you create multiple axes this way, the function returns the axes artists in an array of the same shape as the axes grid.\n",
    "\n",
    "</div>\n"
   ]
  },
  {
   "cell_type": "markdown",
   "metadata": {},
   "source": [
    "#### Exercise\n",
    "\n",
    "1. Create a figure with six axes arranged in 2 rows and 3 columns.\n",
    "2. Only label the x axis once per column, and the y axis once per row. **Hint:** Check the [`subplots()` function's documentation ](https://matplotlib.org/stable/api/_as_gen/matplotlib.pyplot.subplots.html) for helpful parameters!\n"
   ]
  },
  {
   "cell_type": "code",
   "execution_count": null,
   "metadata": {},
   "outputs": [],
   "source": [
    "fig, ax = plt.subplots(2, 3, sharex=True, sharey=True)"
   ]
  },
  {
   "cell_type": "markdown",
   "metadata": {},
   "source": [
    "### Adding a plot to an axis\n",
    "\n",
    "We can plot into a particular axis, by using the associated `Axes` artist's matching plotting function:\n"
   ]
  },
  {
   "cell_type": "code",
   "execution_count": null,
   "metadata": {},
   "outputs": [],
   "source": [
    "x = [1, 2, 6, 7]\n",
    "y = [2, 0, 3, 4]\n",
    "\n",
    "\n",
    "fig, ax = plt.subplots()\n",
    "# Note that we call `plot()` directly on the axis artist!\n",
    "ax.plot(x, y)"
   ]
  },
  {
   "cell_type": "markdown",
   "metadata": {},
   "source": [
    "As mentioned above, `plt.subplots()` returns an array of `Axes` artists when we define multiple axes in a figure.\n",
    "\n",
    "In this case, we therefore need to use an index to choose the axes we want to plot into.\n",
    "\n",
    "**Note:** The first element has the index 0, as is common in Python.\n"
   ]
  },
  {
   "cell_type": "code",
   "execution_count": null,
   "metadata": {},
   "outputs": [],
   "source": [
    "fig, axs = plt.subplots(2, 1)\n",
    "\n",
    "axs[0].plot(x, y)"
   ]
  },
  {
   "cell_type": "markdown",
   "metadata": {},
   "source": [
    "#### Exercise\n",
    "\n",
    "1. Add a bar plot of the same data to the second axis (index `1`)!\n",
    "2. Add a scatter plot to the first axis _in addition to the line plot_!\n"
   ]
  },
  {
   "cell_type": "code",
   "execution_count": null,
   "metadata": {},
   "outputs": [],
   "source": [
    "fig, axs = plt.subplots(2, 1)\n",
    "\n",
    "axs[0].plot(x, y)\n",
    "axs[1].bar(x, y)\n",
    "\n",
    "axs[0].scatter(x, y)"
   ]
  },
  {
   "cell_type": "markdown",
   "metadata": {},
   "source": [
    "### Customizing a plot's features\n",
    "\n",
    "To communicate information efficiently in a data visualization, we often want to use multiple [visual variables](https://en.wikipedia.org/wiki/Visual_variable). This includes the style of a line (solid, dashed, dotted, ...), the shape and size of a marker in a scatter plot, the color of an element, and many other things.\n",
    "\n",
    "In `matplotlib`, you usually set the properties of a feature (a.k.a. an Artist) when you call the function that creates it.\n",
    "\n",
    "For example, we can add markers to the line plot created without calling the `scatter()` function by specifying the `marker` parameter during the call to `plot()`:\n"
   ]
  },
  {
   "cell_type": "code",
   "execution_count": null,
   "metadata": {},
   "outputs": [],
   "source": [
    "fig, ax = plt.subplots()\n",
    "\n",
    "ax.plot(x, y, marker=\"o\")"
   ]
  },
  {
   "cell_type": "markdown",
   "metadata": {},
   "source": [
    "Here, we chose a filled circle as the marker using the argument `\"o\"`. There are many [other marker shapes available](https://matplotlib.org/stable/api/markers_api.html).\n",
    "\n",
    "We could also change the color of the line in a similar way:\n"
   ]
  },
  {
   "cell_type": "code",
   "execution_count": null,
   "metadata": {},
   "outputs": [],
   "source": [
    "fig, ax = plt.subplots()\n",
    "\n",
    "ax.plot(x, y, marker=\"o\", color=\"darkgreen\")"
   ]
  },
  {
   "cell_type": "markdown",
   "metadata": {},
   "source": [
    "You can specify the color using any name from [this list](https://matplotlib.org/stable/gallery/color/named_colors.html#css-colors), or by using a [hex code](https://en.wikipedia.org/wiki/Web_colors#Hex_triplet) (e.g. `\"#008080\"` or `\"#00693E\"`).\n",
    "\n",
    "We can also change the style of the line using the `linestyle` parameter:\n"
   ]
  },
  {
   "cell_type": "code",
   "execution_count": null,
   "metadata": {},
   "outputs": [],
   "source": [
    "fig, ax = plt.subplots()\n",
    "\n",
    "ax.plot(x, y, marker=\"o\", color=\"green\", linestyle=\"dashed\")"
   ]
  },
  {
   "cell_type": "markdown",
   "metadata": {},
   "source": [
    "The full list of linestyles can be found [here](https://matplotlib.org/stable/gallery/lines_bars_and_markers/linestyles.html#linestyles).\n",
    "\n",
    "Since these three features are quite commonly modified, `matplotlib` offers a shorthand notation to change them all with a single parameter called `fmt` (format string). It has the following structure:\n",
    "\n",
    "```\n",
    "fmt = \"[marker][line][color]\"\n",
    "```\n",
    "\n",
    "Our example above translates to:\n"
   ]
  },
  {
   "cell_type": "code",
   "execution_count": null,
   "metadata": {},
   "outputs": [],
   "source": [
    "fig, ax = plt.subplots()\n",
    "\n",
    "ax.plot(x, y, \"o--g\")  # Note: The fmt parameter must not be named!"
   ]
  },
  {
   "cell_type": "markdown",
   "metadata": {},
   "source": [
    "The supported values for each of the three features can be found [here (scroll down to _Notes_)](https://matplotlib.org/stable/api/_as_gen/matplotlib.axes.Axes.plot.html).\n",
    "\n",
    "<div class=\"alert alert-block alert-info\">\n",
    "\n",
    "Note that this shorthand does not support all customization options, especially with regards to color. If you need more fine-grained control, you need to use the named keyword parameters introduced above.\n",
    "\n",
    "</div>\n"
   ]
  },
  {
   "cell_type": "markdown",
   "metadata": {},
   "source": [
    "#### Exercise\n",
    "\n",
    "1. Try out some different options for the markers, color, and linestyle using both the named parameters and the format string.\n",
    "2. Assign a different color to the markers' faces than to the line. **Hint:** This is only possible using named arguments!\n"
   ]
  },
  {
   "cell_type": "code",
   "execution_count": null,
   "metadata": {},
   "outputs": [],
   "source": [
    "# Exercise 1\n",
    "\n",
    "fig, ax = plt.subplots()\n",
    "\n",
    "ax.plot(x, y, \"x-.k\")"
   ]
  },
  {
   "cell_type": "code",
   "execution_count": null,
   "metadata": {},
   "outputs": [],
   "source": [
    "# Exercise 2\n",
    "\n",
    "fig, ax = plt.subplots()\n",
    "\n",
    "ax.plot(x, y, marker=\"o\", linestyle=\"--\", color=\"blue\", markerfacecolor=\"black\")"
   ]
  },
  {
   "cell_type": "markdown",
   "metadata": {},
   "source": [
    "### Adding a legend\n",
    "\n",
    "When you have more than one plot in the same axis, a legend can be very helpful to explain to the viewer what each plot represents.\n",
    "\n",
    "You can control how each plot is labeled in the legend by specifying the `label` parameter when you call the plotting function.\n",
    "\n",
    "To actually show the legend, you can call the `legend()` function on the axes where you want it to appear:\n"
   ]
  },
  {
   "cell_type": "code",
   "execution_count": null,
   "metadata": {},
   "outputs": [],
   "source": [
    "fig, ax = plt.subplots()\n",
    "\n",
    "ax.plot(x, y, \"--\", label=\"interpolation\")\n",
    "ax.scatter(x, y, label=\"data points\")\n",
    "\n",
    "ax.legend()"
   ]
  },
  {
   "cell_type": "markdown",
   "metadata": {},
   "source": [
    "You can control the location of the legend by adding the parameter `loc`:\n"
   ]
  },
  {
   "cell_type": "code",
   "execution_count": null,
   "metadata": {},
   "outputs": [],
   "source": [
    "fig, ax = plt.subplots()\n",
    "\n",
    "ax.plot(x, y, \"--\", label=\"interpolation\")\n",
    "ax.scatter(x, y, label=\"data points\")\n",
    "\n",
    "ax.legend(loc=\"right\")"
   ]
  },
  {
   "cell_type": "markdown",
   "metadata": {},
   "source": [
    "You can see the full list of pre-defined locations, and all other available options for the legend [here](https://matplotlib.org/stable/api/_as_gen/matplotlib.pyplot.legend.html).\n"
   ]
  },
  {
   "cell_type": "markdown",
   "metadata": {},
   "source": [
    "#### Exercise\n",
    "\n",
    "1. Move the location to the bottom right corner.\n",
    "2. Make the entries in the legend appear next to each other, i.e., in two columns.\n",
    "3. Reverse the order of the entries in the legend.\n"
   ]
  },
  {
   "cell_type": "code",
   "execution_count": null,
   "metadata": {},
   "outputs": [],
   "source": [
    "fig, ax = plt.subplots()\n",
    "\n",
    "ax.plot(x, y, \"--\", label=\"interpolation\")\n",
    "ax.scatter(x, y, label=\"data points\")\n",
    "\n",
    "ax.legend(loc=\"lower right\", ncols=2, reverse=True)"
   ]
  },
  {
   "cell_type": "markdown",
   "metadata": {},
   "source": [
    "### Customizing labels\n",
    "\n",
    "Labels add important context information to the raw data in you visualizations. Most labels are defined on the `Axes` artist and can be read or manipulated using so-called _getter_ and _setter_ functions.\n",
    "\n",
    "For example, to set the title or axis labels, we can use the following functions:\n"
   ]
  },
  {
   "cell_type": "code",
   "execution_count": null,
   "metadata": {},
   "outputs": [],
   "source": [
    "fig, ax = plt.subplots()\n",
    "\n",
    "ax.plot(x, y)\n",
    "\n",
    "ax.set_title(\"My first data visualization in matplotlib\")\n",
    "\n",
    "ax.set_xlabel(\"The x axis\")\n",
    "ax.set_ylabel(\"The y axis\")"
   ]
  },
  {
   "cell_type": "markdown",
   "metadata": {},
   "source": [
    "You can retrieve a current label of an axes using the corresponding getter function:\n"
   ]
  },
  {
   "cell_type": "code",
   "execution_count": null,
   "metadata": {},
   "outputs": [],
   "source": [
    "ax.get_xlabel()"
   ]
  },
  {
   "cell_type": "markdown",
   "metadata": {},
   "source": [
    "You can also add a label anywhere on the axis:\n"
   ]
  },
  {
   "cell_type": "code",
   "execution_count": null,
   "metadata": {},
   "outputs": [],
   "source": [
    "fig, ax = plt.subplots()\n",
    "\n",
    "ax.plot(x, y)\n",
    "\n",
    "ax.set_title(\"My first data visualization in matplotlib\")\n",
    "\n",
    "ax.set_xlabel(\"The x axis\")\n",
    "ax.set_ylabel(\"The y axis\")\n",
    "ax.text(5, 1.5, \"Look, an annotation!\")"
   ]
  },
  {
   "cell_type": "markdown",
   "metadata": {},
   "source": [
    "Similar to the line and marker features above, you can change the properties of the labels when you set them:\n"
   ]
  },
  {
   "cell_type": "code",
   "execution_count": null,
   "metadata": {},
   "outputs": [],
   "source": [
    "fig, ax = plt.subplots()\n",
    "\n",
    "ax.plot(x, y)\n",
    "\n",
    "ax.set_title(\"My first data visualization in matplotlib\", weight=\"bold\")\n",
    "\n",
    "ax.set_xlabel(\"The x axis\", color=\"green\")\n",
    "ax.set_ylabel(\"The y axis\")\n",
    "ax.text(5, 1.5, \"Look, an annotation!\", size=6)"
   ]
  },
  {
   "cell_type": "markdown",
   "metadata": {},
   "source": [
    "You can learn more about the [available properties here](https://matplotlib.org/stable/users/explain/text/text_props.html#text-props).\n"
   ]
  },
  {
   "cell_type": "markdown",
   "metadata": {},
   "source": [
    "#### Exercise\n",
    "\n",
    "1. Add some annotations to the plot!\n",
    "2. Change the color of the title to dark green!\n"
   ]
  },
  {
   "cell_type": "code",
   "execution_count": null,
   "metadata": {},
   "outputs": [],
   "source": [
    "fig, ax = plt.subplots()\n",
    "\n",
    "ax.plot(x, y)\n",
    "\n",
    "ax.set_title(\n",
    "    \"My first data visualization in matplotlib\", color=\"darkgreen\", weight=\"bold\"\n",
    ")\n",
    "\n",
    "ax.set_xlabel(\"The x axis\", color=\"green\")\n",
    "ax.set_ylabel(\"The y axis\")\n",
    "ax.text(5, 1.5, \"Look, an annotation!\", size=6)\n",
    "ax.text(1, 2.5, \"Look, another one!\", size=6)"
   ]
  },
  {
   "cell_type": "markdown",
   "metadata": {},
   "source": [
    "### Limits, ticks, and grid lines\n",
    "\n",
    "`matplotlib` does its best to automatically find suitable limits for the axes and derive an appropriate number of ticks along each axis. However, you can customize all of these features using a similar syntax as for the labels:\n"
   ]
  },
  {
   "cell_type": "code",
   "execution_count": null,
   "metadata": {},
   "outputs": [],
   "source": [
    "fig, ax = plt.subplots()\n",
    "\n",
    "ax.plot(x, y)\n",
    "\n",
    "ax.set_ylim(-1, 5)\n",
    "\n",
    "ax.set_xticks([1, 4, 7])\n",
    "\n",
    "ax.grid()"
   ]
  },
  {
   "cell_type": "markdown",
   "metadata": {},
   "source": [
    "#### Exercise\n",
    "\n",
    "1. Change the tick marks on the y-axis so that only 0, 2, and 4 are labeled.\n",
    "2. Chage the limits of the x-axis to the range from 0 to 8.\n",
    "3. Only show horizontal grid lines. **Hint:** Look for a suitable parameter [in the documentation](https://matplotlib.org/stable/api/_as_gen/matplotlib.pyplot.grid.html).\n"
   ]
  },
  {
   "cell_type": "code",
   "execution_count": null,
   "metadata": {},
   "outputs": [],
   "source": [
    "fig, ax = plt.subplots()\n",
    "\n",
    "ax.plot(x, y)\n",
    "\n",
    "ax.set_xlim(0, 8)\n",
    "ax.set_ylim(-1, 5)\n",
    "\n",
    "ax.set_xticks([1, 4, 7])\n",
    "ax.set_yticks([0, 2, 4])\n",
    "\n",
    "\n",
    "ax.grid(axis=\"y\")"
   ]
  },
  {
   "cell_type": "markdown",
   "metadata": {},
   "source": [
    "## Next steps\n",
    "\n",
    "In this notebook, you have learned about the basics of `matplotlib`'s interface and how construct a visualization by creating and modifying various artists.\n",
    "\n",
    "In the [next notebook](02-plot-overview.ipynb), we will showcase a variety of plots for different kind of data that are available in `matplotlib`.\n"
   ]
  },
  {
   "cell_type": "markdown",
   "metadata": {},
   "source": [
    "<table >\n",
    "<tbody>\n",
    "  <tr>\n",
    "    <td style=\"padding:0px;border-width:0px;vertical-align:center\">    \n",
    "    Created by Simon Stone for Dartmouth College Library under <a href=\"https://creativecommons.org/licenses/by/4.0/\">Creative Commons CC BY-NC 4.0 License</a>.<br>For questions, comments, or improvements, email <a href=\"mailto:researchdatahelp@groups.dartmouth.edu\">Research Data Services</a>.\n",
    "    </td>\n",
    "    <td style=\"padding:0 0 0 1em;border-width:0px;vertical-align:center\"><img alt=\"Creative Commons License\" src=\"https://i.creativecommons.org/l/by/4.0/88x31.png\"/></td>\n",
    "  </tr>\n",
    "</tbody>\n",
    "</table>\n"
   ]
  }
 ],
 "metadata": {
  "kernelspec": {
   "display_name": ".venv",
   "language": "python",
   "name": "python3"
  },
  "language_info": {
   "codemirror_mode": {
    "name": "ipython",
    "version": 3
   },
   "file_extension": ".py",
   "mimetype": "text/x-python",
   "name": "python",
   "nbconvert_exporter": "python",
   "pygments_lexer": "ipython3",
   "version": "3.10.8"
  }
 },
 "nbformat": 4,
 "nbformat_minor": 2
}
